{
 "cells": [
  {
   "cell_type": "code",
   "execution_count": 2,
   "metadata": {},
   "outputs": [],
   "source": [
    "from sklearn.linear_model import LinearRegression\n",
    "import pandas as pd\n",
    "import numpy as np\n",
    "import matplotlib.pyplot as plt"
   ]
  },
  {
   "cell_type": "code",
   "execution_count": 3,
   "metadata": {},
   "outputs": [],
   "source": [
    "reg=LinearRegression()"
   ]
  },
  {
   "cell_type": "code",
   "execution_count": 4,
   "metadata": {},
   "outputs": [
    {
     "data": {
      "text/plain": [
       "[<matplotlib.lines.Line2D at 0x1d95e65c1c8>]"
      ]
     },
     "execution_count": 4,
     "metadata": {},
     "output_type": "execute_result"
    },
    {
     "data": {
      "image/png": "[encoded data removed]",
      "text/plain": [
       "<Figure size 432x288 with 1 Axes>"
      ]
     },
     "metadata": {
      "needs_background": "light"
     },
     "output_type": "display_data"
    }
   ],
   "source": [
    "xsample=[[1],[2],[3],[4],[5]]\n",
    "ysample=[[3],[5],[7],[9],[11]]\n",
    "plt.title(\"linear regresssion\")\n",
    "plt.xlabel(\"x\")\n",
    "plt.ylabel(\"y\")\n",
    "plt.plot(xsample,ysample)"
   ]
  },
  {
   "cell_type": "code",
   "execution_count": 5,
   "metadata": {},
   "outputs": [
    {
     "name": "stdout",
     "output_type": "stream",
     "text": [
      "coef:  [[2.]]\n",
      "intercept:  [1.]\n"
     ]
    }
   ],
   "source": [
    "# 실제 모델들의 계수가 어떻게 생겼는지 \n",
    "model=reg.fit(xsample,ysample)\n",
    "print(\"coef: \",model.coef_)#독립변수 계수들\n",
    "print(\"intercept: \",model.intercept_)# y절편"
   ]
  },
  {
   "cell_type": "code",
   "execution_count": 6,
   "metadata": {},
   "outputs": [
    {
     "data": {
      "text/plain": [
       "array([[31.]])"
      ]
     },
     "execution_count": 6,
     "metadata": {},
     "output_type": "execute_result"
    }
   ],
   "source": [
    "model.predict([[15]])"
   ]
  },
  {
   "cell_type": "code",
   "execution_count": 7,
   "metadata": {
    "scrolled": true
   },
   "outputs": [
    {
     "data": {
      "text/plain": [
       "[<matplotlib.lines.Line2D at 0x1d95ed8b308>]"
      ]
     },
     "execution_count": 7,
     "metadata": {},
     "output_type": "execute_result"
    },
    {
     "data": {
      "image/png": "[encoded data removed]",
      "text/plain": [
       "<Figure size 432x288 with 1 Axes>"
      ]
     },
     "metadata": {
      "needs_background": "light"
     },
     "output_type": "display_data"
    }
   ],
   "source": [
    "plt.title(\"sample data\")\n",
    "plt.xlabel(\"x\")\n",
    "plt.ylabel(\"y\")\n",
    "plt.scatter(xsample,ysample) #scatter 산포도\n",
    "plt.plot(xsample,model.coef_*xsample+model.intercept_)# 직접 linearregression 식을 만들어준것."
   ]
  },
  {
   "cell_type": "markdown",
   "metadata": {},
   "source": [
    "# fetch_california_housing_dataset\n",
    "\n",
    "target data: 주택 가격\n",
    "\n",
    "input_data: (소득의) 중앙값, 위도..."
   ]
  },
  {
   "cell_type": "code",
   "execution_count": 8,
   "metadata": {},
   "outputs": [],
   "source": [
    "# dataset 불러오기: pd.read_csv 사용안해도 가능.\n",
    "# sikitlearn에 기본적으로 포함된 dataset\n",
    "from sklearn.datasets import fetch_california_housing"
   ]
  },
  {
   "cell_type": "code",
   "execution_count": 9,
   "metadata": {},
   "outputs": [
    {
     "name": "stdout",
     "output_type": "stream",
     "text": [
      "       MedInc  HouseAge  AveRooms  AveBedrms  Population  AveOccup  Latitude  \\\n",
      "0      8.3252      41.0  6.984127   1.023810       322.0  2.555556     37.88   \n",
      "1      8.3014      21.0  6.238137   0.971880      2401.0  2.109842     37.86   \n",
      "2      7.2574      52.0  8.288136   1.073446       496.0  2.802260     37.85   \n",
      "3      5.6431      52.0  5.817352   1.073059       558.0  2.547945     37.85   \n",
      "4      3.8462      52.0  6.281853   1.081081       565.0  2.181467     37.85   \n",
      "...       ...       ...       ...        ...         ...       ...       ...   \n",
      "20635  1.5603      25.0  5.045455   1.133333       845.0  2.560606     39.48   \n",
      "20636  2.5568      18.0  6.114035   1.315789       356.0  3.122807     39.49   \n",
      "20637  1.7000      17.0  5.205543   1.120092      1007.0  2.325635     39.43   \n",
      "20638  1.8672      18.0  5.329513   1.171920       741.0  2.123209     39.43   \n",
      "20639  2.3886      16.0  5.254717   1.162264      1387.0  2.616981     39.37   \n",
      "\n",
      "       Longitude  \n",
      "0        -122.23  \n",
      "1        -122.22  \n",
      "2        -122.24  \n",
      "3        -122.25  \n",
      "4        -122.25  \n",
      "...          ...  \n",
      "20635    -121.09  \n",
      "20636    -121.21  \n",
      "20637    -121.22  \n",
      "20638    -121.32  \n",
      "20639    -121.24  \n",
      "\n",
      "[20640 rows x 8 columns]\n"
     ]
    }
   ],
   "source": [
    "california=fetch_california_housing()\n",
    "x=california.data # x데이터에는 열 형식의 모든 데이터를\n",
    "#내포하고 있음.\n",
    "df=pd.DataFrame(x,columns=california.feature_names)\n",
    "# colunms=cali.. 각 열의 이름을 지정.\n",
    "y=california.target # csv 파일에 target_data인 가격이 안나와 있음.\n",
    "print(df)\n"
   ]
  },
  {
   "cell_type": "code",
   "execution_count": 25,
   "metadata": {
    "scrolled": true
   },
   "outputs": [
    {
     "name": "stderr",
     "output_type": "stream",
     "text": [
      "No handles with labels found to put in legend.\n"
     ]
    },
    {
     "data": {
      "image/png": "[encoded data removed]",
      "text/plain": [
       "<Figure size 432x288 with 1 Axes>"
      ]
     },
     "metadata": {
      "needs_background": "light"
     },
     "output_type": "display_data"
    }
   ],
   "source": [
    "# i번째 feature와 타겟값 사이의 관계 시각화\n",
    "i=3\n",
    "plt.title(california.feature_names[i]+\"&\"+\"target\")\n",
    "plt.xlabel(california.feature_names[i])\n",
    "plt.ylabel(\"target\")\n",
    "# plt.xlim((0,5))\n",
    "plt.scatter(df[california.feature_names[i]],y)\n",
    "plt.legend()# legend \n",
    "plt.show()\n",
    "# averagebedroom 에 따른 target data 개수를 살펴볼 필요가 있음\n",
    "# 무의미한 분포를 띔\n",
    "# 같은 dataframe 안에 있어야지만 분석이 가능!\n",
    "# dataframe에 시리즈 추가\n",
    "# df[\"price\"]=california.target\n",
    "# import seaborn as sns\n",
    "# sns.set()\n",
    "# facet=sns.FacetGrid(df,hue=\"AveBedrms\",aspect=4)\n",
    "# facet.map(sns.kdeplot,price)\n",
    "# facet.add_legend()\n",
    "# plt.show()"
   ]
  },
  {
   "cell_type": "code",
   "execution_count": 12,
   "metadata": {},
   "outputs": [
    {
     "name": "stdout",
     "output_type": "stream",
     "text": [
      "coef\n",
      "[ 4.36693293e-01  9.43577803e-03 -1.07322041e-01  6.45065694e-01\n",
      " -3.97638942e-06 -3.78654265e-03 -4.21314378e-01 -4.34513755e-01]\n",
      "intercept\n",
      "-36.94192020718434\n"
     ]
    }
   ],
   "source": [
    "reg=LinearRegression()\n",
    "model=reg.fit(x,y)\n",
    "print(\"coef\")\n",
    "print(model.coef_)\n",
    "print(\"intercept\")\n",
    "print(model.intercept_)\n"
   ]
  },
  {
   "cell_type": "code",
   "execution_count": 20,
   "metadata": {},
   "outputs": [
    {
     "name": "stderr",
     "output_type": "stream",
     "text": [
      "No handles with labels found to put in legend.\n"
     ]
    },
    {
     "data": {
      "image/png": "[encoded data removed]",
      "text/plain": [
       "<Figure size 432x288 with 1 Axes>"
      ]
     },
     "metadata": {
      "needs_background": "light"
     },
     "output_type": "display_data"
    }
   ],
   "source": [
    "i=0\n",
    "plt.title(california.feature_names[i]+\"&\"+\"target\")\n",
    "plt.xlabel(california.feature_names[i])\n",
    "plt.ylabel(\"target\")\n",
    "plt.scatter(df[california.feature_names[i]],y)\n",
    "plt.plot(df[california.feature_names[i]],model.coef_[i]*df[california.feature_names[i]],\"r-\")\n",
    "plt.legend()\n",
    "plt.show()"
   ]
  },
  {
   "cell_type": "code",
   "execution_count": 22,
   "metadata": {},
   "outputs": [
    {
     "data": {
      "text/plain": [
       "MedInc           3.870671\n",
       "HouseAge        28.639486\n",
       "AveRooms         5.429000\n",
       "AveBedrms        1.096675\n",
       "Population    1425.476744\n",
       "AveOccup         3.070655\n",
       "Latitude        35.631861\n",
       "Longitude     -119.569704\n",
       "dtype: float64"
      ]
     },
     "execution_count": 22,
     "metadata": {},
     "output_type": "execute_result"
    }
   ],
   "source": [
    "df.mean()\n"
   ]
  },
  {
   "cell_type": "code",
   "execution_count": 23,
   "metadata": {},
   "outputs": [
    {
     "data": {
      "text/plain": [
       "array([2.06855817])"
      ]
     },
     "execution_count": 23,
     "metadata": {},
     "output_type": "execute_result"
    }
   ],
   "source": [
    "model.predict([df.mean()])"
   ]
  },
  {
   "cell_type": "code",
   "execution_count": null,
   "metadata": {},
   "outputs": [],
   "source": []
  }
 ],
 "metadata": {
  "kernelspec": {
   "display_name": "Python 3",
   "language": "python",
   "name": "python3"
  },
  "language_info": {
   "codemirror_mode": {
    "name": "ipython",
    "version": 3
   },
   "file_extension": ".py",
   "mimetype": "text/x-python",
   "name": "python",
   "nbconvert_exporter": "python",
   "pygments_lexer": "ipython3",
   "version": "3.7.6"
  }
 },
 "nbformat": 4,
 "nbformat_minor": 4
}
